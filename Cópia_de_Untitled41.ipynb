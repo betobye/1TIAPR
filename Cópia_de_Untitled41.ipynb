{
  "nbformat": 4,
  "nbformat_minor": 0,
  "metadata": {
    "colab": {
      "provenance": [],
      "include_colab_link": true
    },
    "kernelspec": {
      "name": "python3",
      "display_name": "Python 3"
    },
    "language_info": {
      "name": "python"
    }
  },
  "cells": [
    {
      "cell_type": "markdown",
      "metadata": {
        "id": "view-in-github",
        "colab_type": "text"
      },
      "source": [
        "<a href=\"https://colab.research.google.com/github/betobye/1TIAPR/blob/main/C%C3%B3pia_de_Untitled41.ipynb\" target=\"_parent\"><img src=\"https://colab.research.google.com/assets/colab-badge.svg\" alt=\"Open In Colab\"/></a>"
      ]
    },
    {
      "cell_type": "markdown",
      "source": [
        "# **1. Introdução**\n",
        "\n",
        "- Defina o Problema a ser resolvido - Evitar fraude em transações de cartões\n",
        "- Relevância do problema - Prejuizo financeiro\n",
        "- Como será resolvido - Atraves da análise de dados"
      ],
      "metadata": {
        "id": "O-EcEay_3xbt"
      }
    },
    {
      "cell_type": "markdown",
      "source": [
        "# **2.Coleta de dados**\n",
        "\n",
        "- Fonte de Dados - Informaçoes sobre as transações\n",
        "- Descreva as informações da base de dados -\n",
        "      - Distancia de locais de consumo conhecidos\n",
        "      - Distancia da residência\n"
      ],
      "metadata": {
        "id": "hQ4lSVyS4I8H"
      }
    },
    {
      "cell_type": "markdown",
      "source": [
        "# **3. Análise de Dados**\n",
        "\n",
        "- Quais perguntas queremos responder?\n",
        "\n",
        "- Valor muito acima do ticket médio\n",
        "- Qual distancia de casa\n",
        "- Qual distância do trabalho?\n",
        "- Quais intervalos entre as transações?\n",
        "- Cartão novo?\n",
        "- Qual maior volume de fraudes (On Line x Presencial)\n",
        "\n",
        "\n",
        "\n",
        "- Existe dados faltantes\n",
        "- Existes dados duplicados\n",
        "- Relação da Target com as features"
      ],
      "metadata": {
        "id": "5fgsHG8H4N9f"
      }
    },
    {
      "cell_type": "markdown",
      "source": [
        "# **4. Pré-Processamento**\n",
        "\n",
        "- Tratamento dos dados para aplicar modelos de Machine Learning\n",
        "- Transformar dados categóricos em numéricos\n",
        "- Tratar Dados faltantes\n",
        "- Tratar dados numéricos\n",
        "- Validação\n"
      ],
      "metadata": {
        "id": "qlCH-SV-4Ur_"
      }
    },
    {
      "cell_type": "markdown",
      "source": [
        "# **5.Modelagem**\n",
        "\n",
        "- Que tipo de problema será resolvido, classificação ou regressão?\n",
        "- Qual algoritmo pode ser utilizado para isso"
      ],
      "metadata": {
        "id": "Eb7qIBGB4Uyg"
      }
    },
    {
      "cell_type": "markdown",
      "source": [
        "# **6. Avaliação**\n",
        "\n",
        "- Quais métricas podemos utilizar\n",
        "- Quais conclusões sobre as métricas,visão técnica e negócio"
      ],
      "metadata": {
        "id": "189kUuNf4e2i"
      }
    },
    {
      "cell_type": "markdown",
      "source": [
        "# **7. Conclusão**\n",
        "\n",
        "- Quais são seus principais resultados"
      ],
      "metadata": {
        "id": "6xkR3sjB4U1Y"
      }
    },
    {
      "cell_type": "code",
      "execution_count": null,
      "metadata": {
        "id": "poeqFUm_3wYk"
      },
      "outputs": [],
      "source": []
    }
  ]
}